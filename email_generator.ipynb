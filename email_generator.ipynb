{
 "cells": [
  {
   "cell_type": "code",
   "execution_count": 1,
   "id": "aad6de64-f9fe-45f0-852c-6656be0b5310",
   "metadata": {},
   "outputs": [
    {
     "name": "stdout",
     "output_type": "stream",
     "text": [
      "The first person to land on the moon was Neil Armstrong. He stepped onto the lunar surface on July 20, 1969, as part of the Apollo 11 mission.\n"
     ]
    }
   ],
   "source": [
    "from langchain_groq import ChatGroq\n",
    "\n",
    "llm = ChatGroq(    \n",
    "    temperature=0,\n",
    "    groq_api_key='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',\n",
    "    model_name='llama-3.1-70b-versatile'\n",
    ")\n",
    "\n",
    "response = llm.invoke('The first person to land on moon was...')\n",
    "print(response.content)"
   ]
  },
  {
   "cell_type": "code",
   "execution_count": 2,
   "id": "237d4ddd-7f54-443a-87af-dd7b77184c3a",
   "metadata": {},
   "outputs": [],
   "source": [
    "# pip install chromadb"
   ]
  },
  {
   "cell_type": "code",
   "execution_count": 3,
   "id": "bb002b51-a492-4f89-82a6-b8647c3e6ef5",
   "metadata": {},
   "outputs": [
    {
     "name": "stderr",
     "output_type": "stream",
     "text": [
      "USER_AGENT environment variable not set, consider setting it to identify your requests.\n"
     ]
    },
    {
     "name": "stdout",
     "output_type": "stream",
     "text": [
      "\n",
      "\n",
      "\n",
      "\n",
      "\n",
      "\n",
      "\n",
      "\n",
      "\n",
      "\n",
      "\n",
      "\n",
      "\n",
      "\n",
      "\n",
      "\n",
      "\n",
      "\n",
      "\n",
      "\n",
      "\n",
      "\n",
      "\n"
     ]
    }
   ],
   "source": [
    "from langchain_community.document_loaders import WebBaseLoader\n",
    "\n",
    "loader = WebBaseLoader(\"https://dentsuaegis.wd3.myworkdayjobs.com/en-US/DAN_GLOBAL/jobs/details/Analyst_R1070590?q=data%20science\")\n",
    "page_data = loader.load().pop().page_content\n",
    "print(page_data)"
   ]
  },
  {
   "cell_type": "code",
   "execution_count": 7,
   "id": "fc0567bc-ad68-45f2-9427-c031919d7011",
   "metadata": {},
   "outputs": [
    {
     "data": {
      "text/plain": [
       "str"
      ]
     },
     "execution_count": 7,
     "metadata": {},
     "output_type": "execute_result"
    }
   ],
   "source": [
    "from langchain_core.prompts import PromptTemplate\n",
    "\n",
    "prompt_extract = PromptTemplate.from_template(\n",
    "        \"\"\"\n",
    "        ### SCRAPED TEXT FROM WEBSITE:\n",
    "        {page_data}\n",
    "        ### INSTRUCTION:\n",
    "        The scraped text is from the career's page of a website.\n",
    "        Your job is to extract the job postings and return them in JSON format containing the \n",
    "        following keys: `role`, `experience`, `skills` and `description`.\n",
    "        Only return the valid JSON.\n",
    "        ### VALID JSON (NO PREAMBLE):    \n",
    "        \"\"\"\n",
    ")\n",
    "\n",
    "chain_extract = prompt_extract | llm \n",
    "res = chain_extract.invoke(input={'page_data':page_data})\n",
    "type(res.content)"
   ]
  },
  {
   "cell_type": "code",
   "execution_count": 8,
   "id": "8066b312-0e01-428d-9840-fd35440c1824",
   "metadata": {},
   "outputs": [
    {
     "data": {
      "text/plain": [
       "[{'role': 'Data Scientist',\n",
       "  'experience': '3-5 years',\n",
       "  'skills': 'Python, R, SQL, Machine Learning, Data Visualization',\n",
       "  'description': 'We are seeking a highly skilled Data Scientist to join our team. The successful candidate will have a strong background in machine learning and data visualization. Responsibilities will include analyzing complex data sets, developing predictive models, and communicating insights to stakeholders.'},\n",
       " {'role': 'DevOps Engineer',\n",
       "  'experience': '5-7 years',\n",
       "  'skills': 'AWS, Docker, Kubernetes, Jenkins, Python',\n",
       "  'description': 'We are looking for a talented DevOps Engineer to join our team. The successful candidate will have experience with cloud-based infrastructure and containerization. Responsibilities will include designing and implementing CI/CD pipelines, managing infrastructure, and ensuring system reliability and security.'},\n",
       " {'role': 'Full Stack Developer',\n",
       "  'experience': '2-4 years',\n",
       "  'skills': 'JavaScript, React, Node.js, MongoDB, CSS',\n",
       "  'description': 'We are seeking a skilled Full Stack Developer to join our team. The successful candidate will have experience with front-end and back-end development. Responsibilities will include designing and implementing user interfaces, developing RESTful APIs, and integrating with databases.'},\n",
       " {'role': 'Product Manager',\n",
       "  'experience': '5-7 years',\n",
       "  'skills': 'Product Development, Market Research, Project Management, Leadership',\n",
       "  'description': 'We are looking for a seasoned Product Manager to join our team. The successful candidate will have experience with product development and market research. Responsibilities will include defining product vision, leading cross-functional teams, and driving product growth.'},\n",
       " {'role': 'UX Designer',\n",
       "  'experience': '2-4 years',\n",
       "  'skills': 'User Experience, User Interface, Wireframing, Prototyping, Usability Testing',\n",
       "  'description': 'We are seeking a talented UX Designer to join our team. The successful candidate will have experience with user-centered design. Responsibilities will include designing user interfaces, conducting usability testing, and developing design systems.'}]"
      ]
     },
     "execution_count": 8,
     "metadata": {},
     "output_type": "execute_result"
    }
   ],
   "source": [
    "from langchain_core.output_parsers import JsonOutputParser\n",
    "\n",
    "json_parser = JsonOutputParser()\n",
    "json_res = json_parser.parse(res.content)\n",
    "json_res"
   ]
  },
  {
   "cell_type": "code",
   "execution_count": 9,
   "id": "a49d8185-f417-4657-855f-11ec304c64c8",
   "metadata": {},
   "outputs": [
    {
     "data": {
      "text/plain": [
       "list"
      ]
     },
     "execution_count": 9,
     "metadata": {},
     "output_type": "execute_result"
    }
   ],
   "source": [
    "type(json_res)"
   ]
  },
  {
   "cell_type": "code",
   "execution_count": 10,
   "id": "3ceb734b-73c8-4f14-86c0-57b7809e0e31",
   "metadata": {},
   "outputs": [
    {
     "data": {
      "text/html": [
       "<div>\n",
       "<style scoped>\n",
       "    .dataframe tbody tr th:only-of-type {\n",
       "        vertical-align: middle;\n",
       "    }\n",
       "\n",
       "    .dataframe tbody tr th {\n",
       "        vertical-align: top;\n",
       "    }\n",
       "\n",
       "    .dataframe thead th {\n",
       "        text-align: right;\n",
       "    }\n",
       "</style>\n",
       "<table border=\"1\" class=\"dataframe\">\n",
       "  <thead>\n",
       "    <tr style=\"text-align: right;\">\n",
       "      <th></th>\n",
       "      <th>Techstack</th>\n",
       "      <th>Links</th>\n",
       "    </tr>\n",
       "  </thead>\n",
       "  <tbody>\n",
       "    <tr>\n",
       "      <th>0</th>\n",
       "      <td>React, Node.js, MongoDB</td>\n",
       "      <td>https://example.com/react-portfolio</td>\n",
       "    </tr>\n",
       "    <tr>\n",
       "      <th>1</th>\n",
       "      <td>Angular,.NET, SQL Server</td>\n",
       "      <td>https://example.com/angular-portfolio</td>\n",
       "    </tr>\n",
       "    <tr>\n",
       "      <th>2</th>\n",
       "      <td>Vue.js, Ruby on Rails, PostgreSQL</td>\n",
       "      <td>https://example.com/vue-portfolio</td>\n",
       "    </tr>\n",
       "    <tr>\n",
       "      <th>3</th>\n",
       "      <td>Python, Django, MySQL</td>\n",
       "      <td>https://example.com/python-portfolio</td>\n",
       "    </tr>\n",
       "    <tr>\n",
       "      <th>4</th>\n",
       "      <td>Java, Spring Boot, Oracle</td>\n",
       "      <td>https://example.com/java-portfolio</td>\n",
       "    </tr>\n",
       "  </tbody>\n",
       "</table>\n",
       "</div>"
      ],
      "text/plain": [
       "                           Techstack                                  Links\n",
       "0            React, Node.js, MongoDB    https://example.com/react-portfolio\n",
       "1           Angular,.NET, SQL Server  https://example.com/angular-portfolio\n",
       "2  Vue.js, Ruby on Rails, PostgreSQL      https://example.com/vue-portfolio\n",
       "3              Python, Django, MySQL   https://example.com/python-portfolio\n",
       "4          Java, Spring Boot, Oracle     https://example.com/java-portfolio"
      ]
     },
     "execution_count": 10,
     "metadata": {},
     "output_type": "execute_result"
    }
   ],
   "source": [
    "import pandas as pd\n",
    "\n",
    "df = pd.read_csv('my_portfolio.csv')\n",
    "df.head()"
   ]
  },
  {
   "cell_type": "code",
   "execution_count": 11,
   "id": "3fcb9a03-b433-4cf9-a371-134c1e7064d7",
   "metadata": {},
   "outputs": [],
   "source": [
    "import uuid\n",
    "import chromadb\n",
    "\n",
    "client = chromadb.PersistentClient('vectorstore')\n",
    "collection = client.get_or_create_collection(name=\"portfolio\")\n",
    "\n",
    "if not collection.count():\n",
    "    for _, row in df.iterrows():\n",
    "        collection.add(documents=row[\"Techstack\"],\n",
    "                       metadatas={\"links\": row[\"Links\"]},\n",
    "                       ids=[str(uuid.uuid4())])"
   ]
  },
  {
   "cell_type": "code",
   "execution_count": 13,
   "id": "7a5f59a6-0e72-4481-b65c-7dcaca954c21",
   "metadata": {},
   "outputs": [
    {
     "data": {
      "text/plain": [
       "[[{'links': 'https://example.com/ml-python-portfolio'},\n",
       "  {'links': 'https://example.com/python-portfolio'}]]"
      ]
     },
     "execution_count": 13,
     "metadata": {},
     "output_type": "execute_result"
    }
   ],
   "source": [
    "links = collection.query(query_texts=['Experience in Python'], n_results=2).get('metadatas', [])\n",
    "links"
   ]
  },
  {
   "cell_type": "code",
   "execution_count": 17,
   "id": "773c7d16-b831-4514-b6d8-ad4bd53bfc69",
   "metadata": {},
   "outputs": [
    {
     "data": {
      "text/plain": [
       "'Python, R, SQL, Machine Learning, Data Visualization'"
      ]
     },
     "execution_count": 17,
     "metadata": {},
     "output_type": "execute_result"
    }
   ],
   "source": [
    "job = json_res\n",
    "job[0]['skills']"
   ]
  },
  {
   "cell_type": "code",
   "execution_count": null,
   "id": "4ef64823-3a38-45b0-9473-49c3fe3ebb99",
   "metadata": {},
   "outputs": [],
   "source": []
  },
  {
   "cell_type": "code",
   "execution_count": 29,
   "id": "a0f68d7a-2baf-4ebd-85bf-591ad086b034",
   "metadata": {},
   "outputs": [
    {
     "name": "stdout",
     "output_type": "stream",
     "text": [
      "Subject: Expert Solutions for Your Business Needs - Direction Software LLP\n",
      "\n",
      "Dear Hiring Manager,\n",
      "\n",
      "I came across your job postings for Data Scientist, DevOps Engineer, Full Stack Developer, Product Manager, and UX Designer, and I'm excited to introduce you to Direction Software LLP, a leading AI & Software Consulting company. Our team of experts is dedicated to facilitating the seamless integration of business processes through automated tools, and I believe we can help you find the perfect candidates for your team.\n",
      "\n",
      "At Direction Software LLP, we have a proven track record of empowering numerous enterprises with tailored solutions, fostering scalability, process optimization, cost reduction, and heightened overall efficiency. Our team of experts has extensive experience in machine learning, data visualization, cloud-based infrastructure, containerization, front-end and back-end development, product development, market research, and user-centered design.\n",
      "\n",
      "I'd like to highlight a few examples of our work that align with your job postings:\n",
      "\n",
      "* Our machine learning expertise is showcased in our Python portfolio, which includes projects such as [https://example.com/ml-python-portfolio](https://example.com/ml-python-portfolio).\n",
      "* Our proficiency in Python development is demonstrated in our Python portfolio, which includes projects such as [https://example.com/python-portfolio](https://example.com/python-portfolio).\n",
      "\n",
      "Our team is well-equipped to handle the responsibilities mentioned in your job postings, including analyzing complex data sets, developing predictive models, designing and implementing CI/CD pipelines, managing infrastructure, and ensuring system reliability and security.\n",
      "\n",
      "If you're looking for a reliable partner to help you find the right candidates for your team, I'd be happy to schedule a call to discuss how Direction Software LLP can assist you. Please let me know if you're interested, and I'll send over some case studies and a customized proposal.\n",
      "\n",
      "Best regards,\n",
      "\n",
      "Mohan\n",
      "Business Development Executive\n",
      "Direction Software LLP\n"
     ]
    }
   ],
   "source": [
    "prompt_email = PromptTemplate.from_template(\n",
    "        \"\"\"\n",
    "        ###\n",
    "        {Subject}\n",
    "        ### JOB DESCRIPTION:\n",
    "        {job_description}\n",
    "        \n",
    "        ### INSTRUCTION:\n",
    "        You are Mohan, a business development executive at Direction Software LLP. Direction Software LLP is an AI & Software Consulting company dedicated to facilitating\n",
    "        the seamless integration of business processes through automated tools. \n",
    "        Over our experience, we have empowered numerous enterprises with tailored solutions, fostering scalability, \n",
    "        process optimization, cost reduction, and heightened overall efficiency. \n",
    "        Your job is to write a cold email to the client regarding the job mentioned above describing the capability of Direction Software LLP \n",
    "        in fulfilling their needs.\n",
    "        Also add the most relevant ones from the following links to showcase Direction Software LLP's portfolio: {link_list}\n",
    "        Remember you are Mohan, BDE at Direction Software LLP. \n",
    "        Do not provide a preamble.\n",
    "        ### EMAIL (NO PREAMBLE):\n",
    "        \n",
    "        \"\"\"\n",
    "        )\n",
    "\n",
    "Subject = \"Expert Solutions for Your Business Needs\"\n",
    "chain_email = prompt_email | llm\n",
    "res = chain_email.invoke({\"Subject\":Subject, \"job_description\": str(job), \"link_list\": links})\n",
    "print(res.content)"
   ]
  },
  {
   "cell_type": "code",
   "execution_count": null,
   "id": "1668b806-9e2d-478e-8246-19c0e21fc6a1",
   "metadata": {},
   "outputs": [],
   "source": []
  },
  {
   "cell_type": "code",
   "execution_count": null,
   "id": "da9bd467-d04a-419d-822f-cebd730a05b4",
   "metadata": {},
   "outputs": [],
   "source": []
  }
 ],
 "metadata": {
  "kernelspec": {
   "display_name": "Python 3 (ipykernel)",
   "language": "python",
   "name": "python3"
  },
  "language_info": {
   "codemirror_mode": {
    "name": "ipython",
    "version": 3
   },
   "file_extension": ".py",
   "mimetype": "text/x-python",
   "name": "python",
   "nbconvert_exporter": "python",
   "pygments_lexer": "ipython3",
   "version": "3.12.4"
  }
 },
 "nbformat": 4,
 "nbformat_minor": 5
}
